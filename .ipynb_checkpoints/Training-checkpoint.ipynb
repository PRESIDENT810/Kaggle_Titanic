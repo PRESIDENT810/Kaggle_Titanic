{
 "cells": [
  {
   "cell_type": "code",
   "execution_count": null,
   "metadata": {},
   "outputs": [],
   "source": [
    "import pandas as pd\n",
    "import numpy as np\n",
    "import matplotlib.pyplot as plt\n",
    "\n",
    "import warnings\n",
    "warnings.filterwarnings('ignore')"
   ]
  },
  {
   "cell_type": "markdown",
   "metadata": {},
   "source": [
    "### Split data"
   ]
  },
  {
   "cell_type": "code",
   "execution_count": null,
   "metadata": {},
   "outputs": [],
   "source": [
    "from sklearn.model_selection import train_test_split"
   ]
  },
  {
   "cell_type": "code",
   "execution_count": null,
   "metadata": {},
   "outputs": [],
   "source": [
    "data = pd.read_csv(\"./Age processing/train_AgeFilled.csv\")\n",
    "data.head()"
   ]
  },
  {
   "cell_type": "code",
   "execution_count": null,
   "metadata": {},
   "outputs": [],
   "source": [
    "def data_preproessing(data):\n",
    "    trimmed_data = data.drop(labels=[\"Name\",\"Ticket\",\"Cabin\",\"PassengerId\",\"Unnamed: 0\"],axis=1)\n",
    "    return trimmed_data"
   ]
  },
  {
   "cell_type": "code",
   "execution_count": null,
   "metadata": {},
   "outputs": [],
   "source": [
    "trimmed_data = data_preproessing(data)\n",
    "train_data,test_data = train_test_split(trimmed_data,test_size=0.3)"
   ]
  },
  {
   "cell_type": "code",
   "execution_count": null,
   "metadata": {},
   "outputs": [],
   "source": [
    "train_y = np.array(train_data[\"Survived\"])\n",
    "test_y = np.array(test_data[\"Survived\"])"
   ]
  },
  {
   "cell_type": "code",
   "execution_count": null,
   "metadata": {},
   "outputs": [],
   "source": [
    "train_X = pd.get_dummies(train_data.drop(labels=[\"Survived\"],axis=1))\n",
    "test_X = pd.get_dummies(test_data.drop(labels=[\"Survived\"],axis=1))"
   ]
  },
  {
   "cell_type": "code",
   "execution_count": null,
   "metadata": {
    "scrolled": true
   },
   "outputs": [],
   "source": [
    "train_X.head()"
   ]
  },
  {
   "cell_type": "markdown",
   "metadata": {},
   "source": [
    "### Scale data"
   ]
  },
  {
   "cell_type": "code",
   "execution_count": null,
   "metadata": {},
   "outputs": [],
   "source": [
    "from sklearn.preprocessing import StandardScaler"
   ]
  },
  {
   "cell_type": "code",
   "execution_count": null,
   "metadata": {},
   "outputs": [],
   "source": [
    "### Scale the data\n",
    "def scale_data(data):\n",
    "    age_array = np.array(data)[:,np.newaxis]\n",
    "    age_scaler = StandardScaler().fit(age_array)\n",
    "    scaled_age = age_scaler.transform(age_array)[:,0]\n",
    "    return scaled_age"
   ]
  },
  {
   "cell_type": "code",
   "execution_count": null,
   "metadata": {},
   "outputs": [],
   "source": [
    "train_X[\"Age\"] = scale_data(train_X[\"Age\"])\n",
    "train_X[\"Fare\"] = scale_data(train_X[\"Fare\"])"
   ]
  },
  {
   "cell_type": "code",
   "execution_count": null,
   "metadata": {},
   "outputs": [],
   "source": [
    "test_X[\"Age\"] = scale_data(test_X[\"Age\"])\n",
    "test_X[\"Fare\"] = scale_data(test_X[\"Fare\"])"
   ]
  },
  {
   "cell_type": "code",
   "execution_count": null,
   "metadata": {},
   "outputs": [],
   "source": [
    "train_X.head()"
   ]
  },
  {
   "cell_type": "code",
   "execution_count": null,
   "metadata": {},
   "outputs": [],
   "source": [
    "test_X.head()"
   ]
  },
  {
   "cell_type": "code",
   "execution_count": null,
   "metadata": {},
   "outputs": [],
   "source": [
    "all_X = np.concatenate((train_X,test_X),axis=0)\n",
    "all_y = np.concatenate((train_y,test_y),axis=0)\n",
    "train_X = all_X\n",
    "train_y = all_y"
   ]
  },
  {
   "cell_type": "markdown",
   "metadata": {},
   "source": [
    "### Build models"
   ]
  },
  {
   "cell_type": "code",
   "execution_count": null,
   "metadata": {},
   "outputs": [],
   "source": [
    "#Since this is a classification task, we use logistic regression, FDA, naive bayes, classification tree, SVM and neural network as our models\n",
    "\n",
    "from sklearn.linear_model import LogisticRegression\n",
    "from sklearn.discriminant_analysis import LinearDiscriminantAnalysis\n",
    "from sklearn.naive_bayes import GaussianNB,MultinomialNB,BernoulliNB\n",
    "from sklearn.tree import DecisionTreeClassifier\n",
    "from sklearn.svm import SVC\n",
    "from sklearn.neural_network import MLPClassifier\n",
    "from xgboost import XGBClassifier\n",
    "from sklearn.ensemble import RandomForestClassifier\n",
    "\n",
    "from sklearn.model_selection import cross_val_score\n",
    "from sklearn.model_selection import GridSearchCV"
   ]
  },
  {
   "cell_type": "markdown",
   "metadata": {},
   "source": [
    "### Draw learning curves"
   ]
  },
  {
   "cell_type": "code",
   "execution_count": null,
   "metadata": {},
   "outputs": [],
   "source": [
    "from sklearn.model_selection import learning_curve"
   ]
  },
  {
   "cell_type": "code",
   "execution_count": null,
   "metadata": {},
   "outputs": [],
   "source": [
    "def plot_learning_curve(estimator, title, X, y, ylim=None, cv=None,\n",
    "                        n_jobs=1, train_sizes=np.linspace(.1, 1.0, 5), verbose=0):\n",
    "    \"\"\"\n",
    "    Generate a simple plot of the test and traning learning curve.\n",
    "\n",
    "    Parameters\n",
    "    ----------\n",
    "    estimator : object type that implements the \"fit\" and \"predict\" methods\n",
    "        An object of that type which is cloned for each validation.\n",
    "\n",
    "    title : string\n",
    "        Title for the chart.\n",
    "\n",
    "    X : array-like, shape (n_samples, n_features)\n",
    "        Training vector, where n_samples is the number of samples and\n",
    "        n_features is the number of features.\n",
    "\n",
    "    y : array-like, shape (n_samples) or (n_samples, n_features), optional\n",
    "        Target relative to X for classification or regression;\n",
    "        None for unsupervised learning.\n",
    "\n",
    "    ylim : tuple, shape (ymin, ymax), optional\n",
    "        Defines minimum and maximum yvalues plotted.\n",
    "\n",
    "    cv : integer, cross-validation generator, optional\n",
    "        If an integer is passed, it is the number of folds (defaults to 3).\n",
    "        Specific cross-validation objects can be passed, see\n",
    "        sklearn.cross_validation module for the list of possible objects\n",
    "\n",
    "    n_jobs : integer, optional\n",
    "        Number of jobs to run in parallel (default 1).\n",
    "    \"\"\"\n",
    "    plt.figure()\n",
    "    plt.title(title)\n",
    "    if ylim is not None:\n",
    "        plt.ylim(*ylim)\n",
    "    plt.xlabel(\"Training examples\")\n",
    "    plt.ylabel(\"Score\")\n",
    "    train_sizes, train_scores, test_scores = learning_curve(\n",
    "        estimator, X, y, cv=cv, n_jobs=n_jobs, train_sizes=train_sizes)\n",
    "    train_scores_mean = np.mean(train_scores, axis=1)\n",
    "    train_scores_std = np.std(train_scores, axis=1)\n",
    "    test_scores_mean = np.mean(test_scores, axis=1)\n",
    "    test_scores_std = np.std(test_scores, axis=1)\n",
    "    plt.grid()\n",
    "\n",
    "    plt.fill_between(train_sizes, train_scores_mean - train_scores_std,\n",
    "                     train_scores_mean + train_scores_std, alpha=0.1,\n",
    "                     color=\"r\")\n",
    "    plt.fill_between(train_sizes, test_scores_mean - test_scores_std,\n",
    "                     test_scores_mean + test_scores_std, alpha=0.1, color=\"g\")\n",
    "    plt.plot(train_sizes, train_scores_mean, 'o-', color=\"r\",\n",
    "             label=\"Training score\")\n",
    "    plt.plot(train_sizes, test_scores_mean, 'o-', color=\"g\",\n",
    "             label=\"Cross-validation score\")\n",
    "\n",
    "    plt.legend(loc=\"best\")\n",
    "    return plt"
   ]
  },
  {
   "cell_type": "markdown",
   "metadata": {},
   "source": [
    "### Logistic Regression"
   ]
  },
  {
   "cell_type": "code",
   "execution_count": null,
   "metadata": {},
   "outputs": [],
   "source": [
    "LR = LogisticRegression()\n",
    "LR_grid = {\n",
    "    \"penalty\":[\"l2\"],\n",
    "    \"C\":[0.01,0.1,0.5,1,2,5,10],\n",
    "    \"fit_intercept\":[True,False],\n",
    "    \"solver\":[\"newton-cg\",\"lbfgs\",\"liblinear\",\"sag\",\"saga\"],\n",
    "    \"max_iter\":[50,100,250,500],\n",
    "    \"n_jobs\":[-1]\n",
    "}\n",
    "gsLR = GridSearchCV(LR,param_grid=LR_grid,cv=5)\n",
    "gsLR.fit(train_X,train_y)\n",
    "LR = gsLR.best_estimator_\n",
    "gsLR_best = gsLR.best_score_\n",
    "print(\"Grid search best score: \",gsLR_best)\n",
    "# LR.fit(train_X,train_y)"
   ]
  },
  {
   "cell_type": "code",
   "execution_count": null,
   "metadata": {},
   "outputs": [],
   "source": [
    "plot_learning_curve(LR,title=\"LR learning_curve\",X=train_X,y=train_y,cv=10)"
   ]
  },
  {
   "cell_type": "code",
   "execution_count": null,
   "metadata": {},
   "outputs": [],
   "source": [
    "LR_CV_score_train = cross_val_score(LR,train_X,train_y,cv=10)\n",
    "LR_CV_score_test = cross_val_score(LR,test_X,test_y,cv=10)"
   ]
  },
  {
   "cell_type": "code",
   "execution_count": null,
   "metadata": {},
   "outputs": [],
   "source": [
    "LR_predict_y = LR.predict(test_X)"
   ]
  },
  {
   "cell_type": "code",
   "execution_count": null,
   "metadata": {},
   "outputs": [],
   "source": [
    "print(\"Linear regression cv train mean score: \",LR_CV_score_train.mean())\n",
    "print(\"Linear regression cv test mean score: \",LR_CV_score_test.mean())"
   ]
  },
  {
   "cell_type": "markdown",
   "metadata": {},
   "source": [
    "### Linear Discriminant Analysis"
   ]
  },
  {
   "cell_type": "code",
   "execution_count": null,
   "metadata": {},
   "outputs": [],
   "source": [
    "LDA = LinearDiscriminantAnalysis()\n",
    "LDA_grid_svd = {\n",
    "    \"solver\": [\"svd\"],\n",
    "}\n",
    "LDA_grid_else = {\n",
    "    \"solver\": [\"lsqr\"],\n",
    "    \"shrinkage\": [None,\"auto\",0,0.25,0.5,0.75,1],\n",
    "}\n",
    "gsLDA_svd = GridSearchCV(LDA,param_grid=LDA_grid_svd,n_jobs=-1,cv=5)\n",
    "gsLDA_svd.fit(train_X,train_y)\n",
    "gsLDA_else = GridSearchCV(LDA,param_grid=LDA_grid_else,n_jobs=-1,cv=5)\n",
    "gsLDA_else.fit(train_X,train_y)\n",
    "\n",
    "if gsLDA_svd.best_score_ > gsLDA_else.best_score_:\n",
    "    LDA_best = gsLDA_svd.best_score_\n",
    "    LDA = gsLDA_svd.best_estimator_\n",
    "else:\n",
    "    LDA_best = gsLDA_else.best_score_\n",
    "    LDA = gsLDA_svd.best_estimator_\n",
    "\n",
    "print(\"Grid search best score: \",LDA_best)"
   ]
  },
  {
   "cell_type": "code",
   "execution_count": null,
   "metadata": {},
   "outputs": [],
   "source": [
    "plot_learning_curve(LDA,title=\"LDA learning_curve\",X=train_X,y=train_y,cv=10)"
   ]
  },
  {
   "cell_type": "code",
   "execution_count": null,
   "metadata": {},
   "outputs": [],
   "source": [
    "LDA_CV_score_train = cross_val_score(LDA,train_X,train_y,cv=10)\n",
    "LDA_CV_score_test = cross_val_score(LDA,test_X,test_y,cv=10)"
   ]
  },
  {
   "cell_type": "code",
   "execution_count": null,
   "metadata": {},
   "outputs": [],
   "source": [
    "LDA_predict_y = LDA.predict(test_X)"
   ]
  },
  {
   "cell_type": "code",
   "execution_count": null,
   "metadata": {},
   "outputs": [],
   "source": [
    "print(\"Linear discriminant analysis cv train mean score: \",LDA_CV_score_train.mean())\n",
    "print(\"Linear discriminant analysis cv test mean score: \",LDA_CV_score_test.mean())"
   ]
  },
  {
   "cell_type": "markdown",
   "metadata": {},
   "source": [
    "### Naive Bayes"
   ]
  },
  {
   "cell_type": "code",
   "execution_count": null,
   "metadata": {},
   "outputs": [],
   "source": [
    "GNB = GaussianNB()\n",
    "# MNB = MultinomialNB() cannot apply to negative featrue value\n",
    "BNB = BernoulliNB()\n",
    "\n",
    "GNB.fit(train_X,train_y)\n",
    "# MNB.fit(train_X,train_y)\n",
    "BNB.fit(train_X,train_y)\n",
    "\n",
    "GNB_CV_score = np.mean(cross_val_score(GNB,train_X,train_y,cv=5))\n",
    "# MNB_CV_score = cross_val_score(GNB,train_X,train_y,cv=5)\n",
    "BNB_CV_score = np.mean(cross_val_score(GNB,train_X,train_y,cv=5))\n",
    "\n",
    "# if GNB_CV_score > MNB_CV_score and GNB_CV_score > BNB_CV_score:\n",
    "if GNB_CV_score > BNB_CV_score:\n",
    "    NB = GNB\n",
    "    NB_best = GNB_CV_score\n",
    "# elif MNB_CV_score > GNB_CV_score and MNB_CV_score > BNB_CV_score:\n",
    "#     NB = MNB\n",
    "#     best = MNB_CV_score\n",
    "# elif BNB_CV_score > GNB_CV_score and BNB_CV_score > MNB_CV_score:\n",
    "else:\n",
    "    NB = BNB\n",
    "    NB_best = BNB_CV_score\n",
    "\n",
    "print(\"Best score: \",NB_best)"
   ]
  },
  {
   "cell_type": "code",
   "execution_count": null,
   "metadata": {},
   "outputs": [],
   "source": [
    "plot_learning_curve(NB,title=\"NB learning_curve\",X=train_X,y=train_y,cv=10)"
   ]
  },
  {
   "cell_type": "code",
   "execution_count": null,
   "metadata": {},
   "outputs": [],
   "source": [
    "NB_CV_score_train = cross_val_score(NB,train_X,train_y,cv=10)\n",
    "NB_CV_score_test = cross_val_score(NB,test_X,test_y,cv=10)"
   ]
  },
  {
   "cell_type": "code",
   "execution_count": null,
   "metadata": {},
   "outputs": [],
   "source": [
    "NB_predict_y = NB.predict(test_X)"
   ]
  },
  {
   "cell_type": "code",
   "execution_count": null,
   "metadata": {},
   "outputs": [],
   "source": [
    "print(\"Naive bayes cv train mean score: \",NB_CV_score_train.mean())\n",
    "print(\"Naive bayes cv test mean score: \",NB_CV_score_test.mean())"
   ]
  },
  {
   "cell_type": "markdown",
   "metadata": {},
   "source": [
    "### Decition Tree Classifier"
   ]
  },
  {
   "cell_type": "code",
   "execution_count": null,
   "metadata": {},
   "outputs": [],
   "source": [
    "DTC = DecisionTreeClassifier()\n",
    "DTC_grid = {\n",
    "    \"criterion\": [\"gini\",\"entropy\"],\n",
    "    \"splitter\": [\"best\",\"random\"],\n",
    "    \"max_depth\": [None,10,25,50,100],\n",
    "    \"min_samples_split\": [0.25,0.5,0.75,1.0],\n",
    "    \"min_samples_leaf\": [1,2,3]\n",
    "}\n",
    "\n",
    "gsDTC = GridSearchCV(DTC,param_grid=DTC_grid,n_jobs=-1,cv=5)\n",
    "gsDTC.fit(train_X,train_y)\n",
    "DTC_best = gsDTC.best_score_\n",
    "DTC = gsDTC.best_estimator_"
   ]
  },
  {
   "cell_type": "code",
   "execution_count": null,
   "metadata": {},
   "outputs": [],
   "source": [
    "plot_learning_curve(DTC,title=\"DTC learning_curve\",X=train_X,y=train_y,cv=10)"
   ]
  },
  {
   "cell_type": "code",
   "execution_count": null,
   "metadata": {},
   "outputs": [],
   "source": [
    "DTC_CV_score_train = cross_val_score(DTC,train_X,train_y,cv=10)\n",
    "DTC_CV_score_test = cross_val_score(DTC,test_X,test_y,cv=10)"
   ]
  },
  {
   "cell_type": "code",
   "execution_count": null,
   "metadata": {},
   "outputs": [],
   "source": [
    "DTC_predict_y = DTC.predict(test_X)"
   ]
  },
  {
   "cell_type": "code",
   "execution_count": null,
   "metadata": {},
   "outputs": [],
   "source": [
    "print(\"Decision tree cv train mean score: \",NB_CV_score_train.mean())\n",
    "print(\"Decision tree cv test mean score: \",NB_CV_score_test.mean())"
   ]
  },
  {
   "cell_type": "markdown",
   "metadata": {},
   "source": [
    "### Support Vector Classifier"
   ]
  },
  {
   "cell_type": "code",
   "execution_count": null,
   "metadata": {},
   "outputs": [],
   "source": [
    "SVM_classfier = SVC()\n",
    "SVC_grid = {\n",
    "    \"C\":[0.5,1,2,5,10],\n",
    "    \"kernel\": [\"rbf\",\"linear\",\"poly\",\"sigmoid\"],\n",
    "    \"degree\": [2,3,5,10],\n",
    "    \"shrinking\": [True,False],\n",
    "    \"tol\": [0.01,0.001],\n",
    "}\n",
    "gsSVC = GridSearchCV(SVM_classfier,param_grid=SVC_grid,n_jobs=-1,cv=5)\n",
    "gsSVC.fit(train_X,train_y)\n",
    "SVC_best = gsSVC.best_score_\n",
    "SVM_classfier = gsSVC.best_estimator_"
   ]
  },
  {
   "cell_type": "code",
   "execution_count": null,
   "metadata": {},
   "outputs": [],
   "source": [
    "plot_learning_curve(SVM_classfier,title=\"SVM learning_curve\",X=train_X,y=train_y,cv=10)"
   ]
  },
  {
   "cell_type": "code",
   "execution_count": null,
   "metadata": {},
   "outputs": [],
   "source": [
    "SVM_CV_score_train = cross_val_score(SVM_classfier,train_X,train_y,cv=10)\n",
    "SVM_CV_score_test = cross_val_score(SVM_classfier,test_X,test_y,cv=10)"
   ]
  },
  {
   "cell_type": "code",
   "execution_count": null,
   "metadata": {},
   "outputs": [],
   "source": [
    "SVM_predict_y = SVM_classfier.predict(test_X)"
   ]
  },
  {
   "cell_type": "code",
   "execution_count": null,
   "metadata": {},
   "outputs": [],
   "source": [
    "print(\"Support vector classifier cv train mean score: \",SVM_CV_score_train.mean())\n",
    "print(\"Support vector classifier cv test mean score: \",SVM_CV_score_test.mean())"
   ]
  },
  {
   "cell_type": "markdown",
   "metadata": {},
   "source": [
    "### Neural Network"
   ]
  },
  {
   "cell_type": "code",
   "execution_count": null,
   "metadata": {},
   "outputs": [],
   "source": [
    "NN = MLPClassifier(hidden_layer_sizes=(64))\n",
    "NN_grid = {\n",
    "    \"hidden_layer_sizes\": [50,100,256,512],\n",
    "    \"activation\": [\"identity\",\"logistic\",\"tanh\",\"relu\"],\n",
    "    \"solver\": [\"lbfgs\",\"sgd\",\"adam\"],\n",
    "    \"alpha\": [0.01,0.001,0.0001],\n",
    "    \"learning_rate\": [\"constant\",\"invscaling\",\"adaptive\"],\n",
    "}\n",
    "gsNN = GridSearchCV(NN,param_grid=NN_grid,n_jobs=-1,cv=5)\n",
    "gsNN.fit(train_X,train_y)\n",
    "NN_best = gsNN.best_score_\n",
    "NN = gsNN.best_estimator_"
   ]
  },
  {
   "cell_type": "code",
   "execution_count": null,
   "metadata": {},
   "outputs": [],
   "source": [
    "plot_learning_curve(NN,title=\"NN learning_curve\",X=train_X,y=train_y,cv=10)"
   ]
  },
  {
   "cell_type": "code",
   "execution_count": null,
   "metadata": {},
   "outputs": [],
   "source": [
    "NN_CV_score_train = cross_val_score(NN,train_X,train_y,cv=10)\n",
    "NN_CV_score_test = cross_val_score(NN,test_X,test_y,cv=10)"
   ]
  },
  {
   "cell_type": "code",
   "execution_count": null,
   "metadata": {},
   "outputs": [],
   "source": [
    "NN_predict_y = NN.predict(test_X)"
   ]
  },
  {
   "cell_type": "code",
   "execution_count": null,
   "metadata": {},
   "outputs": [],
   "source": [
    "print(\"Neural network cv train mean score: \",NN_CV_score_train.mean())\n",
    "print(\"Neural network cv test mean score: \",NN_CV_score_test.mean())"
   ]
  },
  {
   "cell_type": "markdown",
   "metadata": {},
   "source": [
    "### Xgboost"
   ]
  },
  {
   "cell_type": "code",
   "execution_count": null,
   "metadata": {},
   "outputs": [],
   "source": [
    "XGBC = XGBClassifier()\n",
    "XGBC_grid = {\n",
    "    \"min_chile_weight\": [0.5,1,2,5],\n",
    "    \"max_depth\": [2,3,5,10],\n",
    "    \"gamma\": [0,0.1,0.2,0.5],\n",
    "    \"max_delta_step\": [0,1],\n",
    "    \"reg_lambda\": [1,2,5,10,20,50],\n",
    "    \"n_estimators\": [50,100,150]\n",
    "}\n",
    "gsXGBC = GridSearchCV(XGBC,param_grid=XGBC_grid,n_jobs=-1,cv=5)\n",
    "gsXGBC.fit(train_X,train_y)\n",
    "XGBC_best = gsXGBC.best_score_\n",
    "XGBC = gsXGBC.best_estimator_"
   ]
  },
  {
   "cell_type": "code",
   "execution_count": null,
   "metadata": {},
   "outputs": [],
   "source": [
    "plot_learning_curve(XGBC,title=\"XGBC learning_curve\",X=train_X,y=train_y,cv=10)"
   ]
  },
  {
   "cell_type": "code",
   "execution_count": null,
   "metadata": {},
   "outputs": [],
   "source": [
    "XGBC_CV_score_train = cross_val_score(XGBC,train_X,train_y,cv=10)\n",
    "XGBC_CV_score_test = cross_val_score(XGBC,test_X,test_y,cv=10)"
   ]
  },
  {
   "cell_type": "code",
   "execution_count": null,
   "metadata": {},
   "outputs": [],
   "source": [
    "XGBC_predict_y = XGBC.predict(test_X)"
   ]
  },
  {
   "cell_type": "code",
   "execution_count": null,
   "metadata": {},
   "outputs": [],
   "source": [
    "print(\"Xgboost cv train mean score: \",XGBC_CV_score_train.mean())\n",
    "print(\"Xgboost cv test mean score: \",XGBC_CV_score_test.mean())"
   ]
  },
  {
   "cell_type": "markdown",
   "metadata": {},
   "source": [
    "### Random Forest"
   ]
  },
  {
   "cell_type": "code",
   "execution_count": null,
   "metadata": {},
   "outputs": [],
   "source": [
    "RF = RandomForestClassifier()\n",
    "RF_grid = {\n",
    "    \"n_estimators\": [5,10,20,50],\n",
    "    \"criterion\": [\"gini\",\"entropy\"],\n",
    "    \"min_samples_split\": [0.25,0.5,0.75,1.0],\n",
    "    \"oob_score\": [True,False],\n",
    "    \"n_jobs\": [-1],\n",
    "}\n",
    "gsRF = GridSearchCV(RF,param_grid=RF_grid,n_jobs=-1,cv=5)\n",
    "gsRF.fit(train_X,train_y)\n",
    "RF_best = gsRF.best_score_\n",
    "RF = gsRF.best_estimator_"
   ]
  },
  {
   "cell_type": "code",
   "execution_count": null,
   "metadata": {},
   "outputs": [],
   "source": [
    "plot_learning_curve(RF,title=\"RF learning_curve\",X=train_X,y=train_y,cv=10)"
   ]
  },
  {
   "cell_type": "code",
   "execution_count": null,
   "metadata": {},
   "outputs": [],
   "source": [
    "RF_CV_score_train = cross_val_score(RF,train_X,train_y,cv=10)\n",
    "RF_CV_score_test = cross_val_score(RF,test_X,test_y,cv=10)"
   ]
  },
  {
   "cell_type": "code",
   "execution_count": null,
   "metadata": {},
   "outputs": [],
   "source": [
    "RF_predict_y = RF.predict(test_X)"
   ]
  },
  {
   "cell_type": "code",
   "execution_count": null,
   "metadata": {},
   "outputs": [],
   "source": [
    "print(\"Random forest cv train mean score: \",RF_CV_score_train.mean())\n",
    "print(\"Random forest cv test mean score: \",RF_CV_score_test.mean())"
   ]
  },
  {
   "cell_type": "markdown",
   "metadata": {},
   "source": [
    "### Model Comparsion"
   ]
  },
  {
   "cell_type": "code",
   "execution_count": null,
   "metadata": {},
   "outputs": [],
   "source": [
    "def draw_comparison(model_names,model_errors,title=\"Model Error Comparsion\",y_range=(0,1)):\n",
    "    print(\"Model names: \",model_names)\n",
    "    print(\"Model errors: \",model_errors)\n",
    "    plt.bar(model_names,model_errors)\n",
    "    plt.ylim(y_range)\n",
    "    plt.title(title)\n",
    "\n",
    "model_names = [\"LR\",\"LDA\",\"GaussianNB\",\"DTC\",\"SVM\",\"NN\",\"XGBC\"]\n",
    "model_errors = [LR_error_rate,LDA_error_rate,NB_error_rate,DTC_error_rate,SVM_error_rate,NN_error_rate,XGBC_error_rate]\n",
    "\n",
    "draw_comparison(model_names,model_errors)"
   ]
  },
  {
   "cell_type": "markdown",
   "metadata": {},
   "source": [
    "### Cross Validation"
   ]
  },
  {
   "cell_type": "code",
   "execution_count": null,
   "metadata": {},
   "outputs": [],
   "source": [
    "CV_meanscore_list = [LR_CV_score_test.mean(),LDA_CV_score_test.mean(),NB_CV_score_test.mean(),DTC_CV_score_test.mean(),SVM_CV_score_test.mean(),NN_CV_score_test.mean(),XGBC_CV_score_test.mean()]"
   ]
  },
  {
   "cell_type": "code",
   "execution_count": null,
   "metadata": {},
   "outputs": [],
   "source": [
    "draw_comparison(model_names,CV_meanscore_list,title=\"CV Score Comparsion\")"
   ]
  },
  {
   "cell_type": "markdown",
   "metadata": {},
   "source": [
    "### Submission"
   ]
  },
  {
   "cell_type": "code",
   "execution_count": null,
   "metadata": {},
   "outputs": [],
   "source": [
    "submit_data = pd.read_csv(\"./Age processing/test_AgeFilled.csv\")"
   ]
  },
  {
   "cell_type": "code",
   "execution_count": null,
   "metadata": {},
   "outputs": [],
   "source": [
    "submit_data.head()"
   ]
  },
  {
   "cell_type": "code",
   "execution_count": null,
   "metadata": {},
   "outputs": [],
   "source": [
    "trimmed_submit_data = submit_data.drop(labels=[\"Name\",\"Ticket\",\"Cabin\",\"PassengerId\",\"Unnamed: 0\"],axis=1)"
   ]
  },
  {
   "cell_type": "code",
   "execution_count": null,
   "metadata": {},
   "outputs": [],
   "source": [
    "trimmed_submit_data = pd.get_dummies(trimmed_submit_data)"
   ]
  },
  {
   "cell_type": "code",
   "execution_count": null,
   "metadata": {},
   "outputs": [],
   "source": [
    "trimmed_submit_data[\"Age\"] = scale_data(trimmed_submit_data[\"Age\"])\n",
    "trimmed_submit_data[\"Fare\"] = scale_data(trimmed_submit_data[\"Fare\"])"
   ]
  },
  {
   "cell_type": "code",
   "execution_count": null,
   "metadata": {},
   "outputs": [],
   "source": [
    "submit_X = trimmed_submit_data\n",
    "submit_X = pd.get_dummies(submit_X)\n",
    "submit_X.head()"
   ]
  },
  {
   "cell_type": "code",
   "execution_count": null,
   "metadata": {},
   "outputs": [],
   "source": [
    "submit_X.info()"
   ]
  },
  {
   "cell_type": "markdown",
   "metadata": {},
   "source": [
    "## Who the fuck didn't pay his fare 😊😊"
   ]
  },
  {
   "cell_type": "code",
   "execution_count": null,
   "metadata": {},
   "outputs": [],
   "source": [
    "submit_X = submit_X.fillna(32.204208)"
   ]
  },
  {
   "cell_type": "code",
   "execution_count": null,
   "metadata": {},
   "outputs": [],
   "source": [
    "submit_X.info()"
   ]
  },
  {
   "cell_type": "code",
   "execution_count": null,
   "metadata": {},
   "outputs": [],
   "source": [
    "# from sklearn.preprocessing import Normalizer\n",
    "# normalizer = Normalizer()\n",
    "# model_weights = normalizer.fit_transform(np.array(CV_meanscore_list)[np.newaxis,:])\n",
    "# model_weights = model_weights[0]\n",
    "\n",
    "# def combine_predict(submit_X,weights):\n",
    "#     LR_pred = LR.predict(submit_X)*weights[0]\n",
    "#     LDA_pred = LDA.predict(submit_X)*weights[1]\n",
    "#     GNB_pred = NB.predict(submit_X)*weights[2]\n",
    "#     DTC_pred = DTC.predict(submit_X)*weights[3]\n",
    "#     SVM_pred = SVM_classfier.predict(submit_X)*weights[4]\n",
    "#     NN_pred = NN.predict(submit_X)*weights[5]\n",
    "#     result = LR_pred+LDA_pred+GNB_pred+DTC_pred+SVM_pred+NN_pred\n",
    "#     return result\n",
    "\n",
    "# raw_result = combine_predict(submit_X,model_weights)"
   ]
  },
  {
   "cell_type": "code",
   "execution_count": null,
   "metadata": {},
   "outputs": [],
   "source": [
    "# result = []\n",
    "\n",
    "# for i in list(raw_result):\n",
    "#     if i > 0.6:\n",
    "#         result.append(1)\n",
    "#     else:\n",
    "#         result.append(0)\n"
   ]
  },
  {
   "cell_type": "code",
   "execution_count": null,
   "metadata": {},
   "outputs": [],
   "source": [
    "# all_X = np.concatenate((train_X,test_X),axis=0)\n",
    "# all_y = np.concatenate((train_y,test_y),axis=0)\n",
    "# SVM_classfier.fit(all_X,all_y)"
   ]
  },
  {
   "cell_type": "code",
   "execution_count": null,
   "metadata": {},
   "outputs": [],
   "source": [
    "result = SVM_classfier.predict(submit_X)"
   ]
  },
  {
   "cell_type": "code",
   "execution_count": null,
   "metadata": {},
   "outputs": [],
   "source": [
    "submit_result = np.array(result)"
   ]
  },
  {
   "cell_type": "code",
   "execution_count": null,
   "metadata": {},
   "outputs": [],
   "source": [
    "survive = pd.DataFrame(np.array(submit_result,dtype=\"int\"),columns=[\"Survived\"])"
   ]
  },
  {
   "cell_type": "code",
   "execution_count": null,
   "metadata": {},
   "outputs": [],
   "source": [
    "submit = pd.concat([submit_data[\"PassengerId\"],survive],axis=1)"
   ]
  },
  {
   "cell_type": "code",
   "execution_count": null,
   "metadata": {},
   "outputs": [],
   "source": [
    "submit.head()"
   ]
  },
  {
   "cell_type": "code",
   "execution_count": null,
   "metadata": {},
   "outputs": [],
   "source": [
    "submit.to_csv(\"Submission.csv\",index=False)"
   ]
  },
  {
   "cell_type": "code",
   "execution_count": null,
   "metadata": {},
   "outputs": [],
   "source": []
  }
 ],
 "metadata": {
  "kernelspec": {
   "display_name": "Python 3",
   "language": "python",
   "name": "python3"
  },
  "language_info": {
   "codemirror_mode": {
    "name": "ipython",
    "version": 3
   },
   "file_extension": ".py",
   "mimetype": "text/x-python",
   "name": "python",
   "nbconvert_exporter": "python",
   "pygments_lexer": "ipython3",
   "version": "3.7.2"
  }
 },
 "nbformat": 4,
 "nbformat_minor": 2
}
